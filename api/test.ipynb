{
 "cells": [
  {
   "cell_type": "code",
   "execution_count": 1,
   "metadata": {},
   "outputs": [
    {
     "name": "stdout",
     "output_type": "stream",
     "text": [
      "Error: 500 Internal Server Error\n"
     ]
    }
   ],
   "source": [
    "import requests\n",
    "\n",
    "url =\"https://fraud-detection-62up.onrender.com\"\n",
    "\n",
    "#url = \"http://127.0.0.1:8000\"\n",
    "customer_data = {\n",
    "    \"category\": \"shopping_pos\",\n",
    "    \"age\": 45,\n",
    "    \"amt\": 27.63300,\n",
    "    \"city\": \"Easton\",\n",
    "    \"city_pop\": 1000,\n",
    "    \"state\": \"KY\",\n",
    "    \"job\": \"Retail merchandiser\",\n",
    "    \"gender\": \"Female\",\n",
    "}\n",
    "\n",
    "response = requests.post(f\"{url}/predict\", json=customer_data)\n",
    "\n",
    "if response.status_code == 200:\n",
    "    result = response.json()\n",
    "    print(result)\n",
    "else:\n",
    "    print(\"Error:\", response.status_code, response.text)"
   ]
  }
 ],
 "metadata": {
  "kernelspec": {
   "display_name": "Python 3",
   "language": "python",
   "name": "python3"
  },
  "language_info": {
   "codemirror_mode": {
    "name": "ipython",
    "version": 3
   },
   "file_extension": ".py",
   "mimetype": "text/x-python",
   "name": "python",
   "nbconvert_exporter": "python",
   "pygments_lexer": "ipython3",
   "version": "3.11.4"
  }
 },
 "nbformat": 4,
 "nbformat_minor": 2
}
