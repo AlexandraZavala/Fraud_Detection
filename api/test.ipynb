{
 "cells": [
  {
   "cell_type": "code",
   "execution_count": 44,
   "metadata": {},
   "outputs": [
    {
     "name": "stdout",
     "output_type": "stream",
     "text": [
      "{'probabilities': {'XGBoost': 0.0005299356998875737, 'Decision Tree': 0.0, 'Random Forest': 0.15, 'K-nearest Neighbors': 0.0}}\n"
     ]
    }
   ],
   "source": [
    "import requests\n",
    "\n",
    "#url =\"https://churncustmodels-1.onrender.com\"\n",
    "\n",
    "url = \"http://127.0.0.1:8000\"\n",
    "customer_data = {\n",
    "    \"category\": \"health_fitness\",\n",
    "    \"age\": 45,\n",
    "    \"amt\": 100,\n",
    "    \"city\": \"Washington\",\n",
    "    \"city_pop\": 1000,\n",
    "    \"state\": \"NY\",\n",
    "    \"job\": \"Geoscientist\",\n",
    "    \"gender\": \"Female\",\n",
    "}\n",
    "\n",
    "response = requests.post(f\"{url}/predict\", json=customer_data)\n",
    "\n",
    "if response.status_code == 200:\n",
    "    result = response.json()\n",
    "    print(result)\n",
    "else:\n",
    "    print(\"Error:\", response.status_code, response.text)"
   ]
  }
 ],
 "metadata": {
  "kernelspec": {
   "display_name": "Python 3",
   "language": "python",
   "name": "python3"
  },
  "language_info": {
   "codemirror_mode": {
    "name": "ipython",
    "version": 3
   },
   "file_extension": ".py",
   "mimetype": "text/x-python",
   "name": "python",
   "nbconvert_exporter": "python",
   "pygments_lexer": "ipython3",
   "version": "3.11.4"
  }
 },
 "nbformat": 4,
 "nbformat_minor": 2
}
